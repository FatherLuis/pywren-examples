{
 "cells": [
  {
   "cell_type": "markdown",
   "metadata": {
    "run_control": {
     "frozen": false,
     "read_only": false
    }
   },
   "source": [
    "# Benchmarking S3 performance with pywren and AWS Lambda\n"
   ]
  },
  {
   "cell_type": "code",
   "execution_count": 1,
   "metadata": {
    "ExecuteTime": {
     "end_time": "2017-02-28T15:23:00.249109",
     "start_time": "2017-02-28T15:22:58.624921"
    },
    "run_control": {
     "frozen": false,
     "read_only": false
    },
    "scrolled": true
   },
   "outputs": [
    {
     "name": "stdout",
     "output_type": "stream",
     "text": [
      "Populating the interactive namespace from numpy and matplotlib\n"
     ]
    }
   ],
   "source": [
    "%pylab inline\n",
    "\n",
    "#STANDARD LIBARY IMPORTS\n",
    "import numpy as np\n",
    "import time\n",
    "import pandas as pd\n",
    "import pickle\n",
    "import seaborn as sns\n",
    "sns.set_style('whitegrid')\n",
    "\n",
    "#PYTHON FILE\n",
    "import s3_benchmark\n"
   ]
  },
  {
   "cell_type": "markdown",
   "metadata": {
    "run_control": {
     "frozen": false,
     "read_only": false
    }
   },
   "source": [
    "## Getting Started \n",
    "\n",
    "We are going to benchmark S3 by writing a large amount of data to a bucket, and then reading that data back. I created a bucket, `jonas-pywren-benchmark`, specifically for this purpose. "
   ]
  },
  {
   "cell_type": "code",
   "execution_count": 2,
   "metadata": {
    "ExecuteTime": {
     "end_time": "2017-02-28T13:34:46.018500",
     "start_time": "2017-02-28T13:34:34.009541"
    },
    "run_control": {
     "frozen": false,
     "read_only": false
    }
   },
   "outputs": [],
   "source": [
    "# INFORMATION IS SENT TO S3_BENCHMARK.PY\n",
    "\n",
    "# BUCKET_NAME: THIS SHOULD BE THE BUCKET THAT WAS CREATED WHEN YOU SET UP YOUR pywren\n",
    "# MB-PER-FILE: MB OF EACH OBJECT IN S3\n",
    "# NUMBER: NUMBER OF FILES\n",
    "\n",
    "!python s3_benchmark.py write --bucket_name=fathe-pywren-815 --mb_per_file=10 \\\n",
    "--number=10 --outfile=write.pickle"
   ]
  },
  {
   "cell_type": "markdown",
   "metadata": {
    "run_control": {
     "frozen": false,
     "read_only": false
    }
   },
   "source": [
    "We then run the read test"
   ]
  },
  {
   "cell_type": "code",
   "execution_count": 3,
   "metadata": {
    "ExecuteTime": {
     "end_time": "2017-02-28T13:35:52.454900",
     "start_time": "2017-02-28T13:34:46.022541"
    },
    "run_control": {
     "frozen": false,
     "read_only": false
    }
   },
   "outputs": [],
   "source": [
    "# INFORMATION IS SENT TO S3_BENCHMARK.PY\n",
    "\n",
    "# KEY_FILE: FILENAME GENEREATED BY WRITE COMMAND (ABOVE)\n",
    "# OUTFILE: READS PICKLE FILE\n",
    "\n",
    "!python s3_benchmark.py read --key_file=write.pickle --outfile=read.pickle"
   ]
  },
  {
   "cell_type": "markdown",
   "metadata": {
    "run_control": {
     "frozen": false,
     "read_only": false
    }
   },
   "source": [
    "Set up some code for preprocessing the results"
   ]
  },
  {
   "cell_type": "code",
   "execution_count": 4,
   "metadata": {
    "ExecuteTime": {
     "end_time": "2017-02-28T15:53:29.810421",
     "start_time": "2017-02-28T15:53:28.177439"
    },
    "run_control": {
     "frozen": false,
     "read_only": false
    }
   },
   "outputs": [],
   "source": [
    "# CREATE A NUMPY ARRAY OF EVENLY SPACED VALUES \n",
    "# BETWEEN 0 & 150. \n",
    "# SIZE: 150\n",
    "runtime_bins = np.linspace(0, 150, 150)\n",
    "\n",
    "# PARAM d: LIST\n",
    "# RETURNS: DICTIONARY\n",
    "def compute_times_rates(d):\n",
    "    \n",
    "    # CAST LIST AS NUMPY ARRAY\n",
    "    x = np.array(d)\n",
    "    \n",
    "    # SELECTS ALL THE ELEMENTS (TUPLES) \n",
    "    # THEN, SELECTS THE FIRST ELEMENT FROM THE TUPLE\n",
    "    # THEN, FIND THE SMALLEST VALUES\n",
    "    tzero = np.min(x[:, 0])\n",
    "    \n",
    "    # SELECTS ALL THE ELEMENTS (TUPLES) \n",
    "    # THEN, SELECTS THE FIRST ELEMENT FROM THE TUPLE    \n",
    "    # THEN, SUBTRACT THE BY ARRAY tzero\n",
    "    start_time = x[:, 0] - tzero\n",
    "   \n",
    "    # SELECTS ALL THE ELEMENTS (TUPLES) \n",
    "    # THEN, SELECTS THE SECOND ELEMENT FROM THE TUPLE    \n",
    "    # THEN, SUBTRACT THE BY ARRAY tzero    \n",
    "    end_time = x[:, 1]  - tzero\n",
    "    \n",
    "    # SELECTS ALL THE ELEMENTS (TUPLES) \n",
    "    # THEN, SELECTS THE THIRD ELEMENT FROM THE TUPLE        \n",
    "    rate = x[:, 2]\n",
    "\n",
    "    #GET THE SIZE OF THE ARRAY\n",
    "    N = len(start_time)\n",
    "\n",
    "    # STORE AN ARRAY OF DIMENSION N WITH len(runtime_bins) ELEMENTS\n",
    "    runtime_rate_hist = np.zeros((N, len(runtime_bins)))\n",
    "    \n",
    "    # STORE AN ARRAY OF DIMENSION N WITH len(runtime_bins) ELEMENTS\n",
    "    runtime_jobs_hist = np.zeros((N, len(runtime_bins)))\n",
    "\n",
    "    # ITERATE THROUGH EVERY ELEMENT IN START_TIME & END_TIME\n",
    "    for i in range(N):\n",
    "        \n",
    "        #STORE ELEMENT IN INDEX I IN START_TIME LIST \n",
    "        s = start_time[i]\n",
    "        e = end_time[i]\n",
    "        \n",
    "        #FIND INDICES WHERE ELMENETS SHOULD BE INSERTED TO MAINTAIN ORDER\n",
    "        a, b = np.searchsorted(runtime_bins, [s, e])\n",
    "        \n",
    "        #CHECK IF INDEX B - INDEX A IS GREATER THAN ZERO\n",
    "        if b-a > 0:\n",
    "            runtime_rate_hist[i, a:b] = rate[i]\n",
    "            runtime_jobs_hist[i, a:b] = 1\n",
    "            \n",
    "    #RETURN A DICTIONARY WITH THE FOLLOWING INFORMATION\n",
    "    return {'start_time' : start_time, \n",
    "            'end_time' : end_time, \n",
    "            'rate' : rate, \n",
    "            'runtime_rate_hist' : runtime_rate_hist, \n",
    "            'runtime_jobs_hist' : runtime_jobs_hist}\n",
    "\n",
    "\n",
    "# DESERIALIZE FILE, STORE A DICTIONARY\n",
    "write_data = pickle.load(open(\"write.pickle\", 'rb'))\n",
    "\n",
    "# A LIST OF TUPLES ARE SENT TO THE FUNCTION\n",
    "# STORES A DICTIONARY\n",
    "write = compute_times_rates(write_data['results'])\n",
    "\n",
    "# DESERIALIZE FILE, STORE A DICTIONARY\n",
    "read_data = pickle.load(open(\"read.pickle\", 'rb'))\n",
    "\n",
    "# CREATES A LIST OF TUPLES \n",
    "# SELECTS ALL ELEMENTS, THEN\n",
    "# SELECTS THE FIRST THREE ELEMENTS OF EACH TUPLE IN READ_DATA[\"RESULTS\"]\n",
    "read_time_results = [r[:3] for r in read_data['results']]\n",
    "\n",
    "# A LIST OF TUPLES ARE SENT TO THE FUNCTION\n",
    "# STORES A DICTIONARY\n",
    "read  = compute_times_rates(read_time_results)\n"
   ]
  },
  {
   "cell_type": "markdown",
   "metadata": {
    "run_control": {
     "frozen": false,
     "read_only": false
    }
   },
   "source": [
    "What is the distribution of read and write rates to S3 from our 2000 lambdas?"
   ]
  },
  {
   "cell_type": "code",
   "execution_count": 5,
   "metadata": {
    "ExecuteTime": {
     "end_time": "2017-02-28T15:53:30.307187",
     "start_time": "2017-02-28T15:53:29.812373"
    },
    "run_control": {
     "frozen": false,
     "read_only": false
    }
   },
   "outputs": [
    {
     "data": {
      "image/png": "[encoded data removed]",
      "text/plain": [
       "<Figure size 288x216 with 1 Axes>"
      ]
     },
     "metadata": {
      "needs_background": "light"
     },
     "output_type": "display_data"
    }
   ],
   "source": [
    "# STORE A SET OF COLORS \n",
    "current_palette = sns.color_palette()\n",
    "# GET THE FIRST COLOR FROM THE PALETTE\n",
    "read_color = current_palette[0]\n",
    "# GET THE SECOND COLOR FROM THE PALETTE\n",
    "write_color = current_palette[1]\n",
    "\n",
    "# SET THE FIGURE SIZE FOR THE GRAPH\n",
    "fig = pylab.figure(figsize=(4, 3))\n",
    "\n",
    "# A HISTOGRAPH WITH A KERNAL DENSITY ESTIMATE \n",
    "sns.distplot(read['rate'], label='read', color=read_color)\n",
    "sns.distplot(write['rate'], label='write', color=write_color)\n",
    "\n",
    "# SHOWS A LEGEND (DEFAULT: TOP LEFT)\n",
    "pylab.legend()\n",
    "# CHANGE THE X-AXIS LABEL\n",
    "pylab.xlabel(\"MB/sec\")\n",
    "# DOES NOT SHOW GRID\n",
    "pylab.grid(False)\n",
    "# CHANGE THE TILE LABEL\n",
    "pylab.title(\"Read/Write rates per worker\")\n",
    "\n",
    "#DOES NOT SHOW THE TOP AND RIGHT BORDERS OF THE FIGURE\n",
    "sns.despine()\n",
    "\n",
    "#SAVE FIGURE AS A PNG\n",
    "fig.savefig(\"s3_benchmark.rates.png\")"
   ]
  },
  {
   "cell_type": "markdown",
   "metadata": {
    "run_control": {
     "frozen": false,
     "read_only": false
    }
   },
   "source": [
    "We can investigate when jobs start and how long they run. Each horizontal line is a job, and then plotted on top is the aggregate number of jobs running at that moment. "
   ]
  },
  {
   "cell_type": "code",
   "execution_count": 20,
   "metadata": {
    "ExecuteTime": {
     "end_time": "2017-02-28T15:53:30.921481",
     "start_time": "2017-02-28T15:53:30.308690"
    },
    "run_control": {
     "frozen": false,
     "read_only": false
    }
   },
   "outputs": [
    {
     "data": {
      "image/png": "[encoded data removed]",
      "text/plain": [
       "<Figure size 576x288 with 2 Axes>"
      ]
     },
     "metadata": {
      "needs_background": "light"
     },
     "output_type": "display_data"
    }
   ],
   "source": [
    "#STANDARD LIBARY IMPORTS\n",
    "from matplotlib.collections import LineCollection\n",
    "\n",
    "# SET THE FIGURE SIZE FOR THE GRAPH  \n",
    "# KEEP REFERENCE IN VARIABLE\n",
    "fig = pylab.figure(figsize=(8, 4))\n",
    "\n",
    "\n",
    "for plot_i, (datum, l, c) in enumerate([(read, 'read', read_color), (write, 'write', write_color)]):\n",
    "    \n",
    "    #PLACE A SUBPLOT IN ROW 1, COL 2, INDEX 1 + PLOT_I\n",
    "    # KEEP REFERENCE IN VARIABLE\n",
    "    ax = fig.add_subplot(1, 2, 1 + plot_i)\n",
    "    \n",
    "    #GET THE SIZE OF THE NUMPY ARRAY\n",
    "    N = len(datum['start_time'])\n",
    "    \n",
    "    \n",
    "    # NOTE: HONESTLY, NOT SURE WHAT THIS IS FOR\n",
    "    #line_segments = LineCollection([[[datum['start_time'][i], i], \n",
    "                                    # [datum['end_time'][i], i]] for i in range(N)],\n",
    "                                  # linestyles='solid', color = \"k\", alpha=0.05, linewidth=0.4)\n",
    "    #ax.add_collection(line_segments)\n",
    "\n",
    "    \n",
    "    # PLOT A LINE GRAPH\n",
    "    ax.plot(runtime_bins, # X-VALUES FROM 0 TO 150\n",
    "            datum['runtime_jobs_hist'].sum(axis=0), # ADDS ALL THE JOBS THAT HAPPENED ON THE FIRST ELEMENT IN EACH LIST\n",
    "            c=c, # COLOR OF GRAPH\n",
    "            label='active jobs total', # LABEL FOR GRAPH\n",
    "            zorder=-1) # DECIDES WHAT IS DRAWN FIRST (patch,line,or text)\n",
    "    \n",
    "    #CHANGE THE TITLE OF FIGURE\n",
    "    ax.set_title(l)\n",
    "\n",
    "    #CHANGE THE X-AXIS RANGE FROM ZERO TO MAX END TIME\n",
    "    ax.set_xlim(0, np.max(datum['end_time']))\n",
    "    \n",
    "    #CHANGE THE y-AXIS RANGE FROM ZERO TO MAX START TIME\n",
    "    ax.set_ylim(0, len(datum['start_time'])*1.05)\n",
    "    \n",
    "    #CHANCE THE X-AXIS LABEL\n",
    "    ax.set_xlabel(\"time (sec)\")\n",
    "    \n",
    "    \n",
    "    # ONLY THE FIRST GRAPH SHOULD HAVE THE Y-AXIS LABEL\n",
    "    if plot_i == 0:\n",
    "        # CHANGE THE Y-AXIS LABEL\n",
    "        ax.set_ylabel(\"job id\")\n",
    "    else:\n",
    "        # DISABLE Y-TICKS\n",
    "        ax.set_yticks([])\n",
    "        \n",
    "    # DOES NOT SHOW GRID    \n",
    "    ax.grid(False)\n",
    "    # SHOWS A LEGEND (LOWER RIGHT)\n",
    "    ax.legend(loc='lower right')\n",
    "    \n",
    "\n",
    "# AUTOMATICALLY ADJUST SUBPLOT PADDING\n",
    "fig.tight_layout()\n",
    "\n",
    "#SAVE FIGURE AS A PNG\n",
    "fig.savefig(\"s3_benchmark.workers.png\")"
   ]
  },
  {
   "cell_type": "code",
   "execution_count": 40,
   "metadata": {
    "ExecuteTime": {
     "end_time": "2017-02-28T15:53:31.143363",
     "start_time": "2017-02-28T15:53:30.923109"
    },
    "run_control": {
     "frozen": false,
     "read_only": false
    }
   },
   "outputs": [
    {
     "data": {
      "image/png": "[encoded data removed]",
      "text/plain": [
       "<Figure size 432x360 with 1 Axes>"
      ]
     },
     "metadata": {
      "needs_background": "light"
     },
     "output_type": "display_data"
    }
   ],
   "source": [
    "# SET THE FIGURE SIZE FOR THE GRAPH  \n",
    "# KEEP REFERENCE IN VARIABLE\n",
    "fig = pylab.figure(figsize=(6,5))\n",
    "\n",
    "#PLACE A SUBPLOT IN ROW 1, COL 2, INDEX 1 \n",
    "# KEEP REFERENCE IN VARIABLE\n",
    "ax = fig.add_subplot(1, 1, 1)\n",
    "\n",
    "for d, l, c in [(read, 'read', read_color), (write, 'write', write_color)]:\n",
    "    \n",
    "    #SAVE A 2D NYMPY ARRAY\n",
    "    lst = d['runtime_rate_hist'].sum(axis=0)/1000\n",
    "    \n",
    "    # PLOT A LINE GRAPH\n",
    "    ax.plot(lst, # TWO LIST ARE PRESENT (ONE FOR X AND OTHER FOR Y)\n",
    "            label=l, # LABEL FOR LINE GRAPHs\n",
    "            c=c) # COLOR OF GRAPH\n",
    "\n",
    "    \n",
    "# CHANGE THE X-AXIS RANGE FROM ZERO TO MAX END TIME\n",
    "# ADJUST AS NEEDED\n",
    "#ax.set_xlim(0, 5)\n",
    "\n",
    "# CHANGE THE y-AXIS RANGE FROM ZERO TO MAX START TIME\n",
    "ax.set_ylim(0, np.max(lst[1])*1.5)\n",
    "    \n",
    "# CHANGE X-AXIS LABEL    \n",
    "ax.set_xlabel('time (sec)')\n",
    "\n",
    "# CHANGE Y-AXIS LABEL\n",
    "ax.set_ylabel(\"GB / sec\")\n",
    "\n",
    "# SHOWS A LEGEND (DEFAULT: TOP LEFT)\n",
    "pylab.legend()\n",
    "\n",
    "# DOES NOT SHOW GRID\n",
    "ax.grid(False)\n",
    "\n",
    "# DOES NOT SHOW THE TOP AND RIGHT BORDERS OF THE FIGURE\n",
    "sns.despine()\n",
    "\n",
    "# AUTOMATICALLY ADJUST SUBPLOT PADDING\n",
    "fig.tight_layout()\n",
    "\n",
    "# SAVE FIGURE AS A PNG\n",
    "fig.savefig(\"s3_benchmark.tput.png\")"
   ]
  },
  {
   "cell_type": "code",
   "execution_count": null,
   "metadata": {},
   "outputs": [],
   "source": []
  }
 ],
 "metadata": {
  "anaconda-cloud": {},
  "kernelspec": {
   "display_name": "Python 3",
   "language": "python",
   "name": "python3"
  },
  "language_info": {
   "codemirror_mode": {
    "name": "ipython",
    "version": 3
   },
   "file_extension": ".py",
   "mimetype": "text/x-python",
   "name": "python",
   "nbconvert_exporter": "python",
   "pygments_lexer": "ipython3",
   "version": "3.7.3"
  },
  "toc": {
   "nav_menu": {
    "height": "66px",
    "width": "252px"
   },
   "navigate_menu": true,
   "number_sections": true,
   "sideBar": true,
   "threshold": 4,
   "toc_cell": false,
   "toc_section_display": "block",
   "toc_window_display": false
  }
 },
 "nbformat": 4,
 "nbformat_minor": 1
}
