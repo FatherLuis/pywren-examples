{
 "cells": [
  {
   "cell_type": "markdown",
   "metadata": {
    "run_control": {
     "frozen": false,
     "read_only": false
    }
   },
   "source": [
    "# Benchmarking GFLOPS with pywren and lambda\n"
   ]
  },
  {
   "cell_type": "code",
   "execution_count": 1,
   "metadata": {
    "ExecuteTime": {
     "end_time": "2017-02-27T10:34:14.685368",
     "start_time": "2017-02-27T10:34:14.671498"
    },
    "scrolled": true
   },
   "outputs": [
    {
     "name": "stdout",
     "output_type": "stream",
     "text": [
      "Populating the interactive namespace from numpy and matplotlib\n"
     ]
    }
   ],
   "source": [
    "%pylab inline\n",
    "import numpy as np\n",
    "import time\n",
    "import flops_benchmark\n",
    "import pandas as pd\n",
    "import pickle\n",
    "import seaborn as sns\n",
    "sns.set_style('whitegrid')\n"
   ]
  },
  {
   "cell_type": "markdown",
   "metadata": {},
   "source": [
    "# Getting Started \n",
    "\n",
    "We are going to benchmark the simple function below, which simply generates two matrices and computes their matrix (dot) product. The matrices are of size `MAT_N` and we will compute the product `loopcount` times. "
   ]
  },
  {
   "cell_type": "code",
   "execution_count": 2,
   "metadata": {
    "ExecuteTime": {
     "end_time": "2017-02-27T09:26:13.230345",
     "start_time": "2017-02-27T09:26:13.219630"
    }
   },
   "outputs": [],
   "source": [
    "\n",
    "def compute_flops(loopcount, MAT_N):\n",
    "    \n",
    "    A = np.arange(MAT_N**2, dtype=np.float64).reshape(MAT_N, MAT_N)\n",
    "    B = np.arange(MAT_N**2, dtype=np.float64).reshape(MAT_N, MAT_N)\n",
    "\n",
    "    t1 = time.time()\n",
    "    for i in range(loopcount):\n",
    "        c = np.sum(np.dot(A, B))\n",
    "\n",
    "    FLOPS = 2 *  MAT_N**3 * loopcount\n",
    "    t2 = time.time()\n",
    "    return FLOPS / (t2-t1)\n",
    "\n"
   ]
  },
  {
   "cell_type": "markdown",
   "metadata": {},
   "source": [
    "All of the actual benchmark code is in a stand-alone python file, which you can call as follows. It places the output in `small.pickle`"
   ]
  },
  {
   "cell_type": "code",
   "execution_count": 12,
   "metadata": {
    "ExecuteTime": {
     "end_time": "2017-02-27T10:38:59.263090",
     "start_time": "2017-02-27T10:38:30.640817"
    }
   },
   "outputs": [
    {
     "name": "stdout",
     "output_type": "stream",
     "text": [
      "invocation done, dur= 4.8158793449401855\n",
      "callset id:  46b5f0b6-5f04-4b07-81b0-6bc026c7985e\n",
      "total time 32.04658770561218\n",
      "6.701130453349079 GFLOPS\n"
     ]
    }
   ],
   "source": [
    "!python flops_benchmark.py --workers=10 --loopcount=10 --matn=1024 --outfile=\"small.pickle\""
   ]
  },
  {
   "cell_type": "markdown",
   "metadata": {},
   "source": [
    "We can plot a histogram of the results: "
   ]
  },
  {
   "cell_type": "code",
   "execution_count": 13,
   "metadata": {
    "ExecuteTime": {
     "end_time": "2017-02-27T09:26:39.652451",
     "start_time": "2017-02-27T09:26:39.498018"
    }
   },
   "outputs": [],
   "source": [
    "exp_results = pickle.load(open(\"small.pickle\", 'rb'))\n",
    "results_df = flops_benchmark.results_to_dataframe(exp_results)\n"
   ]
  },
  {
   "cell_type": "code",
   "execution_count": 14,
   "metadata": {
    "ExecuteTime": {
     "end_time": "2017-02-27T10:06:58.628054",
     "start_time": "2017-02-27T10:06:58.314181"
    }
   },
   "outputs": [
    {
     "data": {
      "text/plain": [
       "<matplotlib.axes._subplots.AxesSubplot at 0x7f056438be48>"
      ]
     },
     "execution_count": 14,
     "metadata": {},
     "output_type": "execute_result"
    },
    {
     "data": {
      "image/png": "[encoded data removed]",
      "text/plain": [
       "<Figure size 432x288 with 1 Axes>"
      ]
     },
     "metadata": {},
     "output_type": "display_data"
    }
   ],
   "source": [
    "sns.distplot(results_df.intra_func_flops/1e9, bins=np.arange(10, 30), kde=False)"
   ]
  },
  {
   "cell_type": "markdown",
   "metadata": {
    "ExecuteTime": {
     "end_time": "2017-02-27T09:27:24.537559",
     "start_time": "2017-02-27T09:27:24.528708"
    }
   },
   "source": [
    "# scaling up\n",
    "Now we will run a very large number of lambdas simultaneously. Note that this is very dependent on the maximum number of simultaneous lambdas that AWS has enabled for your account. You can e-mail them and ask for a limit increase. Note that due to stragglers this can also take a while"
   ]
  },
  {
   "cell_type": "code",
   "execution_count": 15,
   "metadata": {
    "ExecuteTime": {
     "end_time": "2017-02-27T10:01:42.382113",
     "start_time": "2017-02-27T09:57:50.492364"
    }
   },
   "outputs": [
    {
     "name": "stdout",
     "output_type": "stream",
     "text": [
      "invocation done, dur= 26.937674522399902\n",
      "callset id:  dc4560f5-73c1-47cd-94f2-27050fc604ce\n",
      "total time 2202.1055743694305\n",
      "1747.550499851921 GFLOPS\n"
     ]
    }
   ],
   "source": [
    "# My account has a lambda limit of 3000 simultaneous lambdas, so I'm using 2800 to give us some headroom\n",
    "!python flops_benchmark.py --workers=2800 --loopcount=10 --matn=4096 --outfile=\"big.pickle\""
   ]
  },
  {
   "cell_type": "code",
   "execution_count": 17,
   "metadata": {
    "ExecuteTime": {
     "end_time": "2017-02-27T10:07:16.204258",
     "start_time": "2017-02-27T10:07:15.477252"
    }
   },
   "outputs": [
    {
     "data": {
      "text/plain": [
       "<matplotlib.axes._subplots.AxesSubplot at 0x7f055d64b358>"
      ]
     },
     "execution_count": 17,
     "metadata": {},
     "output_type": "execute_result"
    },
    {
     "data": {
      "image/png": "[encoded data removed]",
      "text/plain": [
       "<Figure size 432x288 with 1 Axes>"
      ]
     },
     "metadata": {},
     "output_type": "display_data"
    }
   ],
   "source": [
    "big_exp_results = pickle.load(open(\"big.pickle\", 'rb'))\n",
    "big_results_df = flops_benchmark.results_to_dataframe(big_exp_results)\n",
    "sns.distplot(results_df.intra_func_flops/1e9, bins=np.arange(10, 36), kde=False)"
   ]
  },
  {
   "cell_type": "code",
   "execution_count": 18,
   "metadata": {
    "ExecuteTime": {
     "end_time": "2017-02-27T10:20:59.609352",
     "start_time": "2017-02-27T10:20:59.602174"
    }
   },
   "outputs": [],
   "source": [
    "est_total_flops = big_results_df['est_flops']\n",
    "total_jobs = len(big_results_df)\n",
    "JOB_GFLOPS = est_total_flops /1e9 /total_jobs "
   ]
  },
  {
   "cell_type": "code",
   "execution_count": 41,
   "metadata": {
    "ExecuteTime": {
     "end_time": "2017-02-27T10:38:16.971213",
     "start_time": "2017-02-27T10:38:15.463955"
    }
   },
   "outputs": [
    {
     "data": {
      "image/png": "[encoded data removed]",
      "text/plain": [
       "<Figure size 288x216 with 1 Axes>"
      ]
     },
     "metadata": {},
     "output_type": "display_data"
    }
   ],
   "source": [
    "# grid jobs running time \n",
    "\n",
    "time_offset = np.min(big_results_df.host_submit_time)\n",
    "max_time = np.max(big_results_df.download_output_timestamp ) - time_offset\n",
    "runtime_bins = np.linspace(0, max_time, np.int(max_time), endpoint=False)\n",
    "\n",
    "runtime_flops_hist = np.zeros((len(big_results_df), len(runtime_bins)))\n",
    "for i in range(len(big_results_df)):\n",
    "    row = big_results_df.iloc[i]\n",
    "    s = (row.start_time + row.setup_time) - time_offset\n",
    "    e = row.end_time - time_offset\n",
    "    a, b = np.searchsorted(runtime_bins, [s, e])\n",
    "    if b-a > 0:\n",
    "        runtime_flops_hist[i, a:b] = row.est_flops / float(b-a)\n",
    "        \n",
    "results_by_endtime = big_results_df.sort_values('download_output_timestamp')\n",
    "results_by_endtime['job_endtime_zeroed'] = big_results_df.download_output_timestamp - time_offset\n",
    "results_by_endtime['flops_done'] = results_by_endtime.est_flops.cumsum()\n",
    "results_by_endtime['rolling_flops_rate'] = results_by_endtime.flops_done/results_by_endtime.job_endtime_zeroed\n",
    "\n",
    "fig = pylab.figure(figsize=(4, 3))\n",
    "ax = fig.add_subplot(1, 1, 1)\n",
    "ax.plot(runtime_flops_hist.sum(axis=0)/1e9, label='peak GFLOPS')\n",
    "ax.plot(results_by_endtime.job_endtime_zeroed, \n",
    "        results_by_endtime.rolling_flops_rate/1e9, label='effective GFLOPS')\n",
    "ax.set_xlabel('time (sec)')\n",
    "ax.set_ylabel(\"GFLOPS\")\n",
    "pylab.legend()\n",
    "ax.grid(False)\n",
    "sns.despine()\n",
    "fig.tight_layout()\n",
    "fig.savefig(\"flops_benchmark.gflops.png\")\n",
    "fig.savefig(\"flops_benchmark.gflops.pdf\")"
   ]
  },
  {
   "cell_type": "markdown",
   "metadata": {},
   "source": [
    "This plot computes two things:\n",
    "* **Peak GLFOPS**: Across all cores, what is the total simultaneous FLOPS that are being computed? \n",
    "* **Effective GFLOPS**: If the job ended at this point in time, what would our aggregate effective GFLOPS have been, including time to launch the jobs and download the results\n",
    "\n",
    "We see \"peak GFLOPS\" peaks in the middle of the job, when all 2800 lambdas are running at once. \"Effective GFLOPS\" starts climbing as results quickly return, but stragglers mean that in reality our total effective GFLOPS for the job is only ~20GFLOPS. Still not bad for pure python! "
   ]
  }
 ],
 "metadata": {
  "anaconda-cloud": {},
  "kernelspec": {
   "display_name": "Python 3",
   "language": "python",
   "name": "python3"
  },
  "language_info": {
   "codemirror_mode": {
    "name": "ipython",
    "version": 3
   },
   "file_extension": ".py",
   "mimetype": "text/x-python",
   "name": "python",
   "nbconvert_exporter": "python",
   "pygments_lexer": "ipython3",
   "version": "3.6.5"
  },
  "toc": {
   "nav_menu": {
    "height": "66px",
    "width": "252px"
   },
   "navigate_menu": true,
   "number_sections": true,
   "sideBar": true,
   "threshold": 4,
   "toc_cell": false,
   "toc_section_display": "block",
   "toc_window_display": false
  }
 },
 "nbformat": 4,
 "nbformat_minor": 1
}
