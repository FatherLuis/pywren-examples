{
 "cells": [
  {
   "cell_type": "markdown",
   "metadata": {
    "run_control": {
     "frozen": false,
     "read_only": false
    }
   },
   "source": [
    "# Benchmarking GFLOPS with pywren and lambda\n"
   ]
  },
  {
   "cell_type": "code",
   "execution_count": 1,
   "metadata": {
    "ExecuteTime": {
     "end_time": "2017-02-27T10:34:14.685368",
     "start_time": "2017-02-27T10:34:14.671498"
    },
    "scrolled": true
   },
   "outputs": [
    {
     "name": "stdout",
     "output_type": "stream",
     "text": [
      "Populating the interactive namespace from numpy and matplotlib\n"
     ]
    }
   ],
   "source": [
    "%pylab inline\n",
    "\n",
    "# STANDARD LIBRARY IMPORT\n",
    "import numpy as np\n",
    "import time\n",
    "import pandas as pd\n",
    "import pickle\n",
    "import seaborn as sns\n",
    "sns.set_style('whitegrid')\n",
    "\n",
    "# PYTHON FILE\n",
    "import flops_benchmark"
   ]
  },
  {
   "cell_type": "markdown",
   "metadata": {},
   "source": [
    "# Getting Started \n",
    "\n",
    "We are going to benchmark the simple function below, which simply generates two matrices and computes their matrix (dot) product. The matrices are of size `MAT_N` and we will compute the product `loopcount` times. "
   ]
  },
  {
   "cell_type": "code",
   "execution_count": 2,
   "metadata": {
    "ExecuteTime": {
     "end_time": "2017-02-27T09:26:13.230345",
     "start_time": "2017-02-27T09:26:13.219630"
    }
   },
   "outputs": [],
   "source": [
    "\n",
    "# PARAM loopcount: INT, NUMBER OF ITERATIONS FOR DOT PRODUCT ON MATRICES\n",
    "# PARAM MAT_N: INT, SIZE OF MATRICES\n",
    "def compute_flops(loopcount, MAT_N):\n",
    "    \n",
    "    # CREATE A NUMPY ARRAY OF DOUBLE THE SIZE MAT_N \n",
    "    # RESHAPE THE 1D ARRAY TO A 2D ARRAY OF LENGTH MAT_N\n",
    "    A = np.arange(MAT_N**2, dtype=np.float64).reshape(MAT_N, MAT_N)\n",
    "    \n",
    "    \n",
    "    # CREATE A NUMPY ARRAY OF DOUBLE THE SIZE MAT_N \n",
    "    # RESHAPE THE 1D ARRAY TO A 2D ARRAY OF LENGTH MAT_N\n",
    "    B = np.arange(MAT_N**2, dtype=np.float64).reshape(MAT_N, MAT_N)\n",
    "    \n",
    "    # GET THE TIME IN SECONDS SINCE THE EPOCH\n",
    "    t1 = time.time()\n",
    "    \n",
    "    # PERFORM THE DOT PRODUCT ON THE TWO 2D ARRAYS FOR loopcount ITERATIONS\n",
    "    # NOTE: WE'RE JUST INTERESTED IN HOW LONG IT TAKES TO PERFORM THE COMPUTATION\n",
    "    #       NOT THE ACTUAL VALUES\n",
    "    for i in range(loopcount):\n",
    "        c = np.sum(np.dot(A, B))\n",
    "\n",
    "    # FLOATING-POINT OPERATIONS PER SECOND\n",
    "    FLOPS = 2 *  MAT_N**3 * loopcount\n",
    "    \n",
    "    # GET THE TIME IN SECONDS SINCE EPOCH\n",
    "    t2 = time.time()\n",
    "    \n",
    "    # RETURN THE AVERAGE RATE \n",
    "    return FLOPS / (t2-t1)\n",
    "\n"
   ]
  },
  {
   "cell_type": "markdown",
   "metadata": {},
   "source": [
    "All of the actual benchmark code is in a stand-alone python file, which you can call as follows. It places the output in `small.pickle`"
   ]
  },
  {
   "cell_type": "code",
   "execution_count": 3,
   "metadata": {
    "ExecuteTime": {
     "end_time": "2017-02-27T10:38:59.263090",
     "start_time": "2017-02-27T10:38:30.640817"
    }
   },
   "outputs": [
    {
     "name": "stdout",
     "output_type": "stream",
     "text": [
      "invocation done, dur= 14.27163028717041\n",
      "callset id:  5e57bc4a-3980-40b8-8b3d-0bd6578ac297\n",
      "total time 37.60903453826904\n",
      "8.565031013285504 GFLOPS\n"
     ]
    }
   ],
   "source": [
    "# WORKERS: NUMBER OF WORKDS\n",
    "# LOOPCOUNT: NUMBER OF MATMULS TO DO\n",
    "# MATN: SIZE OF MATRIX\n",
    "# OUTFILE: WHERE TO PLACE THE SAVE DATA\n",
    "\n",
    "!python flops_benchmark.py --workers=15 --loopcount=10 --matn=1024 --outfile=\"small.pickle\""
   ]
  },
  {
   "cell_type": "markdown",
   "metadata": {},
   "source": [
    "We can plot a histogram of the results: "
   ]
  },
  {
   "cell_type": "code",
   "execution_count": 4,
   "metadata": {
    "ExecuteTime": {
     "end_time": "2017-02-27T09:26:39.652451",
     "start_time": "2017-02-27T09:26:39.498018"
    }
   },
   "outputs": [],
   "source": [
    "# DESERIALIZE FILE, STORE A DICTIONARY\n",
    "exp_results = pickle.load(open(\"small.pickle\", 'rb'))\n",
    "\n",
    "# FLOPS_BENCHMARK IS THE PYTHON FILE\n",
    "# METHOD IS CALL TO RETURN A DATAFRAME USING THE DICTIONARY AS THE PARAMETER\n",
    "results_df = flops_benchmark.results_to_dataframe(exp_results)\n"
   ]
  },
  {
   "cell_type": "code",
   "execution_count": 5,
   "metadata": {
    "ExecuteTime": {
     "end_time": "2017-02-27T10:06:58.628054",
     "start_time": "2017-02-27T10:06:58.314181"
    }
   },
   "outputs": [
    {
     "data": {
      "text/plain": [
       "<matplotlib.axes._subplots.AxesSubplot at 0x2038fc237f0>"
      ]
     },
     "execution_count": 5,
     "metadata": {},
     "output_type": "execute_result"
    },
    {
     "data": {
      "image/png": "[encoded data removed]",
      "text/plain": [
       "<Figure size 432x288 with 1 Axes>"
      ]
     },
     "metadata": {
      "needs_background": "light"
     },
     "output_type": "display_data"
    }
   ],
   "source": [
    "# A HISTOGRAPH WITH NO KERNAL DENSITY ESTIMATE  \n",
    "sns.distplot(results_df.intra_func_flops/1e9, bins=np.arange(5, 45), kde=False)"
   ]
  },
  {
   "cell_type": "markdown",
   "metadata": {
    "ExecuteTime": {
     "end_time": "2017-02-27T09:27:24.537559",
     "start_time": "2017-02-27T09:27:24.528708"
    }
   },
   "source": [
    "# scaling up\n",
    "Now we will run a very large number of lambdas simultaneously. Note that this is very dependent on the maximum number of simultaneous lambdas that AWS has enabled for your account. You can e-mail them and ask for a limit increase. Note that due to stragglers this can also take a while"
   ]
  },
  {
   "cell_type": "code",
   "execution_count": 6,
   "metadata": {
    "ExecuteTime": {
     "end_time": "2017-02-27T10:01:42.382113",
     "start_time": "2017-02-27T09:57:50.492364"
    }
   },
   "outputs": [
    {
     "name": "stdout",
     "output_type": "stream",
     "text": [
      "invocation done, dur= 95.55420398712158\n",
      "callset id:  f4154a74-5460-4fc4-8d30-d4544bebd8b1\n",
      "total time 287.4371404647827\n",
      "4781.530780947887 GFLOPS\n"
     ]
    }
   ],
   "source": [
    "# My account has a lambda limit of 3000 simultaneous lambdas, so I'm using 2800 to give us some headroom\n",
    "\n",
    "# WORKERS: NUMBER OF WORKDS\n",
    "# LOOPCOUNT: NUMBER OF MATRIX MULTIPLICATIONS TO DO\n",
    "# MATN: SIZE OF MATRIX\n",
    "# OUTFILE: WHERE TO PLACE THE SAVE DATA\n",
    "!python flops_benchmark.py --workers=1000 --loopcount=10 --matn=4096 --outfile=\"big.pickle\""
   ]
  },
  {
   "cell_type": "code",
   "execution_count": 7,
   "metadata": {
    "ExecuteTime": {
     "end_time": "2017-02-27T10:07:16.204258",
     "start_time": "2017-02-27T10:07:15.477252"
    }
   },
   "outputs": [
    {
     "data": {
      "text/html": [
       "<div>\n",
       "<style scoped>\n",
       "    .dataframe tbody tr th:only-of-type {\n",
       "        vertical-align: middle;\n",
       "    }\n",
       "\n",
       "    .dataframe tbody tr th {\n",
       "        vertical-align: top;\n",
       "    }\n",
       "\n",
       "    .dataframe thead th {\n",
       "        text-align: right;\n",
       "    }\n",
       "</style>\n",
       "<table border=\"1\" class=\"dataframe\">\n",
       "  <thead>\n",
       "    <tr style=\"text-align: right;\">\n",
       "      <th></th>\n",
       "      <th>aws_request_id</th>\n",
       "      <th>call_id</th>\n",
       "      <th>callset_id</th>\n",
       "      <th>data_key</th>\n",
       "      <th>end_time</th>\n",
       "      <th>exception</th>\n",
       "      <th>exec_time</th>\n",
       "      <th>free_disk_bytes</th>\n",
       "      <th>func_key</th>\n",
       "      <th>host_submit_time</th>\n",
       "      <th>...</th>\n",
       "      <th>runtime_url</th>\n",
       "      <th>status_done_timestamp</th>\n",
       "      <th>status_query_count</th>\n",
       "      <th>storage_config</th>\n",
       "      <th>use_cached_runtime</th>\n",
       "      <th>intra_func_flops</th>\n",
       "      <th>workers</th>\n",
       "      <th>loopcount</th>\n",
       "      <th>MATN</th>\n",
       "      <th>est_flops</th>\n",
       "    </tr>\n",
       "  </thead>\n",
       "  <tbody>\n",
       "    <tr>\n",
       "      <th>0</th>\n",
       "      <td>89726b7a-2644-4cc3-b0bf-842daa42f07f</td>\n",
       "      <td>00000</td>\n",
       "      <td>f4154a74-5460-4fc4-8d30-d4544bebd8b1</td>\n",
       "      <td>pywren.jobs/f4154a74-5460-4fc4-8d30-d4544bebd8...</td>\n",
       "      <td>1.568933e+09</td>\n",
       "      <td>None</td>\n",
       "      <td>179.309376</td>\n",
       "      <td>538333184</td>\n",
       "      <td>pywren.jobs/f4154a74-5460-4fc4-8d30-d4544bebd8...</td>\n",
       "      <td>1.568932e+09</td>\n",
       "      <td>...</td>\n",
       "      <td>s3://pywren-runtimes-public-us-west-2/02e4bb-p...</td>\n",
       "      <td>1.568933e+09</td>\n",
       "      <td>1</td>\n",
       "      <td>{'storage_backend': 's3', 'storage_prefix': 'p...</td>\n",
       "      <td>True</td>\n",
       "      <td>7.738067e+09</td>\n",
       "      <td>1000</td>\n",
       "      <td>10</td>\n",
       "      <td>4096</td>\n",
       "      <td>1.374390e+12</td>\n",
       "    </tr>\n",
       "    <tr>\n",
       "      <th>1</th>\n",
       "      <td>81e60ed0-72d5-4414-bb33-a69cde96f8cc</td>\n",
       "      <td>00001</td>\n",
       "      <td>f4154a74-5460-4fc4-8d30-d4544bebd8b1</td>\n",
       "      <td>pywren.jobs/f4154a74-5460-4fc4-8d30-d4544bebd8...</td>\n",
       "      <td>1.568933e+09</td>\n",
       "      <td>None</td>\n",
       "      <td>182.072499</td>\n",
       "      <td>538333184</td>\n",
       "      <td>pywren.jobs/f4154a74-5460-4fc4-8d30-d4544bebd8...</td>\n",
       "      <td>1.568932e+09</td>\n",
       "      <td>...</td>\n",
       "      <td>s3://pywren-runtimes-public-us-west-2/d249ed-p...</td>\n",
       "      <td>1.568933e+09</td>\n",
       "      <td>1</td>\n",
       "      <td>{'storage_backend': 's3', 'storage_prefix': 'p...</td>\n",
       "      <td>True</td>\n",
       "      <td>7.679883e+09</td>\n",
       "      <td>1000</td>\n",
       "      <td>10</td>\n",
       "      <td>4096</td>\n",
       "      <td>1.374390e+12</td>\n",
       "    </tr>\n",
       "    <tr>\n",
       "      <th>2</th>\n",
       "      <td>f025c5f3-3888-4221-80f9-2fec7f7f3d6c</td>\n",
       "      <td>00002</td>\n",
       "      <td>f4154a74-5460-4fc4-8d30-d4544bebd8b1</td>\n",
       "      <td>pywren.jobs/f4154a74-5460-4fc4-8d30-d4544bebd8...</td>\n",
       "      <td>1.568933e+09</td>\n",
       "      <td>None</td>\n",
       "      <td>179.962964</td>\n",
       "      <td>9142272</td>\n",
       "      <td>pywren.jobs/f4154a74-5460-4fc4-8d30-d4544bebd8...</td>\n",
       "      <td>1.568932e+09</td>\n",
       "      <td>...</td>\n",
       "      <td>s3://pywren-runtimes-public-us-west-2/d249ed-p...</td>\n",
       "      <td>1.568933e+09</td>\n",
       "      <td>1</td>\n",
       "      <td>{'storage_backend': 's3', 'storage_prefix': 'p...</td>\n",
       "      <td>True</td>\n",
       "      <td>7.724197e+09</td>\n",
       "      <td>1000</td>\n",
       "      <td>10</td>\n",
       "      <td>4096</td>\n",
       "      <td>1.374390e+12</td>\n",
       "    </tr>\n",
       "    <tr>\n",
       "      <th>3</th>\n",
       "      <td>60c2d92d-98a2-4c70-8882-9ccc5a29d937</td>\n",
       "      <td>00003</td>\n",
       "      <td>f4154a74-5460-4fc4-8d30-d4544bebd8b1</td>\n",
       "      <td>pywren.jobs/f4154a74-5460-4fc4-8d30-d4544bebd8...</td>\n",
       "      <td>1.568933e+09</td>\n",
       "      <td>None</td>\n",
       "      <td>181.272091</td>\n",
       "      <td>9142272</td>\n",
       "      <td>pywren.jobs/f4154a74-5460-4fc4-8d30-d4544bebd8...</td>\n",
       "      <td>1.568932e+09</td>\n",
       "      <td>...</td>\n",
       "      <td>s3://pywren-runtimes-public-us-west-2/d249ed-p...</td>\n",
       "      <td>1.568933e+09</td>\n",
       "      <td>1</td>\n",
       "      <td>{'storage_backend': 's3', 'storage_prefix': 'p...</td>\n",
       "      <td>True</td>\n",
       "      <td>7.674725e+09</td>\n",
       "      <td>1000</td>\n",
       "      <td>10</td>\n",
       "      <td>4096</td>\n",
       "      <td>1.374390e+12</td>\n",
       "    </tr>\n",
       "    <tr>\n",
       "      <th>4</th>\n",
       "      <td>2fed7518-58b4-48b7-a51f-02d53221315e</td>\n",
       "      <td>00004</td>\n",
       "      <td>f4154a74-5460-4fc4-8d30-d4544bebd8b1</td>\n",
       "      <td>pywren.jobs/f4154a74-5460-4fc4-8d30-d4544bebd8...</td>\n",
       "      <td>1.568933e+09</td>\n",
       "      <td>None</td>\n",
       "      <td>179.469512</td>\n",
       "      <td>9142272</td>\n",
       "      <td>pywren.jobs/f4154a74-5460-4fc4-8d30-d4544bebd8...</td>\n",
       "      <td>1.568932e+09</td>\n",
       "      <td>...</td>\n",
       "      <td>s3://pywren-runtimes-public-us-west-2/f2aa7a-p...</td>\n",
       "      <td>1.568933e+09</td>\n",
       "      <td>1</td>\n",
       "      <td>{'storage_backend': 's3', 'storage_prefix': 'p...</td>\n",
       "      <td>True</td>\n",
       "      <td>7.736397e+09</td>\n",
       "      <td>1000</td>\n",
       "      <td>10</td>\n",
       "      <td>4096</td>\n",
       "      <td>1.374390e+12</td>\n",
       "    </tr>\n",
       "  </tbody>\n",
       "</table>\n",
       "<p>5 rows × 51 columns</p>\n",
       "</div>"
      ],
      "text/plain": [
       "                         aws_request_id call_id  \\\n",
       "0  89726b7a-2644-4cc3-b0bf-842daa42f07f   00000   \n",
       "1  81e60ed0-72d5-4414-bb33-a69cde96f8cc   00001   \n",
       "2  f025c5f3-3888-4221-80f9-2fec7f7f3d6c   00002   \n",
       "3  60c2d92d-98a2-4c70-8882-9ccc5a29d937   00003   \n",
       "4  2fed7518-58b4-48b7-a51f-02d53221315e   00004   \n",
       "\n",
       "                             callset_id  \\\n",
       "0  f4154a74-5460-4fc4-8d30-d4544bebd8b1   \n",
       "1  f4154a74-5460-4fc4-8d30-d4544bebd8b1   \n",
       "2  f4154a74-5460-4fc4-8d30-d4544bebd8b1   \n",
       "3  f4154a74-5460-4fc4-8d30-d4544bebd8b1   \n",
       "4  f4154a74-5460-4fc4-8d30-d4544bebd8b1   \n",
       "\n",
       "                                            data_key      end_time exception  \\\n",
       "0  pywren.jobs/f4154a74-5460-4fc4-8d30-d4544bebd8...  1.568933e+09      None   \n",
       "1  pywren.jobs/f4154a74-5460-4fc4-8d30-d4544bebd8...  1.568933e+09      None   \n",
       "2  pywren.jobs/f4154a74-5460-4fc4-8d30-d4544bebd8...  1.568933e+09      None   \n",
       "3  pywren.jobs/f4154a74-5460-4fc4-8d30-d4544bebd8...  1.568933e+09      None   \n",
       "4  pywren.jobs/f4154a74-5460-4fc4-8d30-d4544bebd8...  1.568933e+09      None   \n",
       "\n",
       "    exec_time  free_disk_bytes  \\\n",
       "0  179.309376        538333184   \n",
       "1  182.072499        538333184   \n",
       "2  179.962964          9142272   \n",
       "3  181.272091          9142272   \n",
       "4  179.469512          9142272   \n",
       "\n",
       "                                            func_key  host_submit_time  ...  \\\n",
       "0  pywren.jobs/f4154a74-5460-4fc4-8d30-d4544bebd8...      1.568932e+09  ...   \n",
       "1  pywren.jobs/f4154a74-5460-4fc4-8d30-d4544bebd8...      1.568932e+09  ...   \n",
       "2  pywren.jobs/f4154a74-5460-4fc4-8d30-d4544bebd8...      1.568932e+09  ...   \n",
       "3  pywren.jobs/f4154a74-5460-4fc4-8d30-d4544bebd8...      1.568932e+09  ...   \n",
       "4  pywren.jobs/f4154a74-5460-4fc4-8d30-d4544bebd8...      1.568932e+09  ...   \n",
       "\n",
       "                                         runtime_url status_done_timestamp  \\\n",
       "0  s3://pywren-runtimes-public-us-west-2/02e4bb-p...          1.568933e+09   \n",
       "1  s3://pywren-runtimes-public-us-west-2/d249ed-p...          1.568933e+09   \n",
       "2  s3://pywren-runtimes-public-us-west-2/d249ed-p...          1.568933e+09   \n",
       "3  s3://pywren-runtimes-public-us-west-2/d249ed-p...          1.568933e+09   \n",
       "4  s3://pywren-runtimes-public-us-west-2/f2aa7a-p...          1.568933e+09   \n",
       "\n",
       "  status_query_count                                     storage_config  \\\n",
       "0                  1  {'storage_backend': 's3', 'storage_prefix': 'p...   \n",
       "1                  1  {'storage_backend': 's3', 'storage_prefix': 'p...   \n",
       "2                  1  {'storage_backend': 's3', 'storage_prefix': 'p...   \n",
       "3                  1  {'storage_backend': 's3', 'storage_prefix': 'p...   \n",
       "4                  1  {'storage_backend': 's3', 'storage_prefix': 'p...   \n",
       "\n",
       "   use_cached_runtime intra_func_flops workers loopcount  MATN     est_flops  \n",
       "0                True     7.738067e+09    1000        10  4096  1.374390e+12  \n",
       "1                True     7.679883e+09    1000        10  4096  1.374390e+12  \n",
       "2                True     7.724197e+09    1000        10  4096  1.374390e+12  \n",
       "3                True     7.674725e+09    1000        10  4096  1.374390e+12  \n",
       "4                True     7.736397e+09    1000        10  4096  1.374390e+12  \n",
       "\n",
       "[5 rows x 51 columns]"
      ]
     },
     "metadata": {},
     "output_type": "display_data"
    },
    {
     "data": {
      "text/plain": [
       "<matplotlib.axes._subplots.AxesSubplot at 0x203904f6cf8>"
      ]
     },
     "execution_count": 7,
     "metadata": {},
     "output_type": "execute_result"
    },
    {
     "data": {
      "image/png": "[encoded data removed]",
      "text/plain": [
       "<Figure size 432x288 with 1 Axes>"
      ]
     },
     "metadata": {
      "needs_background": "light"
     },
     "output_type": "display_data"
    }
   ],
   "source": [
    "# DESERIALIZE FILE, STORE A DICTIONARY\n",
    "big_exp_results = pickle.load(open(\"big.pickle\", 'rb'))\n",
    "\n",
    "# FLOPS_BENCHMARK IS THE PYTHON FILE\n",
    "# METHOD IS CALL TO RETURN A DATAFRAME USING THE DICTIONARY AS THE PARAMETER\n",
    "big_results_df = flops_benchmark.results_to_dataframe(big_exp_results)\n",
    "\n",
    "# SHOW THE FIRST FIVE ROWS OF THE DATAFRAME\n",
    "display(big_results_df.head())\n",
    "\n",
    "# A HISTOGRAPH WITH NO KERNAL DENSITY ESTIMATE  \n",
    "sns.distplot(big_results_df.intra_func_flops/1e9, bins=np.arange(5, 50), kde=False)"
   ]
  },
  {
   "cell_type": "code",
   "execution_count": 8,
   "metadata": {
    "ExecuteTime": {
     "end_time": "2017-02-27T10:20:59.609352",
     "start_time": "2017-02-27T10:20:59.602174"
    }
   },
   "outputs": [],
   "source": [
    "# GET THE ESTIMATED TOTAL FLOPS\n",
    "est_total_flops = big_results_df['est_flops']\n",
    "\n",
    "# GET THE TOTAL NUMBER OF JOBS\n",
    "total_jobs = len(big_results_df)\n",
    "\n",
    "# GET JOBS PER FLOP\n",
    "JOB_GFLOPS = est_total_flops /1e9 /total_jobs "
   ]
  },
  {
   "cell_type": "code",
   "execution_count": 9,
   "metadata": {
    "ExecuteTime": {
     "end_time": "2017-02-27T10:38:16.971213",
     "start_time": "2017-02-27T10:38:15.463955"
    }
   },
   "outputs": [],
   "source": [
    "# GRID JOBS RUNNING TIME\n",
    "\n",
    "# GET THE MINIMUM HOST_SUBMIT_TIME \n",
    "time_offset = np.min(big_results_df.host_submit_time)\n",
    "\n",
    "# GET THE MAXIMUM DOWNLOAD_OUTPUT_STAMPT\n",
    "# THEN SUBTRACT BY THE TIME_OFFSET\n",
    "# MAX_TIME SAVES THE TIME IT TOOK TO GET THE JOB DONE\n",
    "max_time = np.max(big_results_df.download_output_timestamp ) - time_offset\n",
    "\n",
    "# CREATES AN ARRAY WITH EVENLY SPACED OUT VALUES BETWEEN O TO MAX_TIME\n",
    "runtime_bins = np.linspace(0, max_time, np.int(max_time), endpoint=False)\n",
    "\n",
    "# CREATE AN ARRAY WITH EVENLY SPACED OUT VALUES BETWEEN LENGTH BIG_RESULTS_DF TO LENGTH RUNTIME_BINS\n",
    "runtime_flops_hist = np.zeros((len(big_results_df), len(runtime_bins)))\n",
    "\n",
    "# ITERATE THROUGH EACH ROW IN THE DATAFRAME\n",
    "for i in range(len(big_results_df)):\n",
    "    # GET THE A ROW IN INDEX I \n",
    "    row = big_results_df.iloc[i]\n",
    "    \n",
    "    # STORES THE TIME IT TOOK TO GET STARTED\n",
    "    s = (row.start_time + row.setup_time) - time_offset\n",
    "    \n",
    "    # STORES THE TIME IT TOOK TO GET THE JOB DONE\n",
    "    e = row.end_time - time_offset\n",
    "    \n",
    "    #FIND INDICES WHERE ELMENETS SHOULD BE INSERTED TO MAINTAIN ORDER\n",
    "    a, b = np.searchsorted(runtime_bins, [s, e])\n",
    "    \n",
    "    #CHECK IF INDEX B - INDEX A IS GREATER THAN ZERO\n",
    "    if b-a > 0:\n",
    "        runtime_flops_hist[i, a:b] = row.est_flops / float(b-a)\n",
    "        \n",
    "# STORES A DATA FRAME WITH SORTED VALUES BASED ON ENDTIME     \n",
    "results_by_endtime = big_results_df.sort_values('download_output_timestamp')\n",
    "\n",
    "# CREATE A NEW COLUM\n",
    "# SAVE RESULTS AS JOB_ENDTIME\n",
    "results_by_endtime['job_endtime_zeroed'] = big_results_df.download_output_timestamp - time_offset\n",
    "\n",
    "# CREATE A NEW COLUMN\n",
    "# SAVE THE SUM OF THE COLUMNS OF ALL ESTIMATED FLOPS\n",
    "results_by_endtime['flops_done'] = results_by_endtime.est_flops.cumsum()\n",
    "\n",
    "# CREATE A NEW COLUMN\n",
    "# SAVE RESULTS FOR THE FLOP RATE\n",
    "results_by_endtime['rolling_flops_rate'] = results_by_endtime.flops_done/results_by_endtime.job_endtime_zeroed\n"
   ]
  },
  {
   "cell_type": "code",
   "execution_count": 10,
   "metadata": {},
   "outputs": [
    {
     "data": {
      "image/png": "[encoded data removed]",
      "text/plain": [
       "<Figure size 288x216 with 1 Axes>"
      ]
     },
     "metadata": {
      "needs_background": "light"
     },
     "output_type": "display_data"
    }
   ],
   "source": [
    "\n",
    "# SET THE FIGURE SIZE FOR THE GRAPH  \n",
    "# KEEP REFERENCE IN VARIABLE\n",
    "fig = pylab.figure(figsize=(4, 3))\n",
    "\n",
    "#PLACE FIGURE IN ROW 1 COL 1 INDEX 1\n",
    "ax = fig.add_subplot(1, 1, 1)\n",
    "\n",
    "# PLOT A LINE GRAPH: RUNTIME_FLOPS_HIST VS TIME\n",
    "ax.plot(runtime_flops_hist.sum(axis=0)/1e9, label='peak GFLOPS')\n",
    "\n",
    "# PLOT A LINE GRAPH: ROLLING_FLOP_RATE VS TIME\n",
    "ax.plot(results_by_endtime.job_endtime_zeroed, \n",
    "        results_by_endtime.rolling_flops_rate/1e9, label='effective GFLOPS')\n",
    "\n",
    "# CHANGE X-AXIS LABEL\n",
    "ax.set_xlabel('time (sec)')\n",
    "\n",
    "# CHANGE Y-AXIS LABEL\n",
    "ax.set_ylabel(\"GFLOPS\")\n",
    "\n",
    "# SHOWS A LEGEND (DEFAULT: TOP LEFT)\n",
    "pylab.legend()\n",
    "\n",
    "# DOES NOT SHOW GRID\n",
    "ax.grid(False)\n",
    "\n",
    "#DOES NOT SHOW THE TOP AND RIGHT BORDERS OF THE FIGURE\n",
    "sns.despine()\n",
    "\n",
    "# AUTOMATICALLY ADJUST SUBPLOT PADDING\n",
    "fig.tight_layout()\n",
    "\n",
    "#SAVE FIGURE AS A PNG\n",
    "fig.savefig(\"flops_benchmark.gflops.png\")"
   ]
  },
  {
   "cell_type": "markdown",
   "metadata": {},
   "source": [
    "This plot computes two things:\n",
    "* **Peak GLFOPS**: Across all cores, what is the total simultaneous FLOPS that are being computed? \n",
    "* **Effective GFLOPS**: If the job ended at this point in time, what would our aggregate effective GFLOPS have been, including time to launch the jobs and download the results\n",
    "\n",
    "We see \"peak GFLOPS\" peaks in the middle of the job, when all 2800 lambdas are running at once. \"Effective GFLOPS\" starts climbing as results quickly return, but stragglers mean that in reality our total effective GFLOPS for the job is only ~20GFLOPS. Still not bad for pure python! "
   ]
  }
 ],
 "metadata": {
  "anaconda-cloud": {},
  "kernelspec": {
   "display_name": "Python 3",
   "language": "python",
   "name": "python3"
  },
  "language_info": {
   "codemirror_mode": {
    "name": "ipython",
    "version": 3
   },
   "file_extension": ".py",
   "mimetype": "text/x-python",
   "name": "python",
   "nbconvert_exporter": "python",
   "pygments_lexer": "ipython3",
   "version": "3.7.3"
  },
  "toc": {
   "nav_menu": {
    "height": "66px",
    "width": "252px"
   },
   "navigate_menu": true,
   "number_sections": true,
   "sideBar": true,
   "threshold": 4,
   "toc_cell": false,
   "toc_section_display": "block",
   "toc_window_display": false
  }
 },
 "nbformat": 4,
 "nbformat_minor": 1
}
